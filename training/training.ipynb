{
  "cells": [
    {
      "cell_type": "markdown",
      "metadata": {
        "colab_type": "text",
        "id": "view-in-github"
      },
      "source": [
        "<a href=\"https://colab.research.google.com/github/arielkeren/relationai/blob/main/RelationAI.ipynb\" target=\"_parent\"><img src=\"https://colab.research.google.com/assets/colab-badge.svg\" alt=\"Open In Colab\"/></a>"
      ]
    },
    {
      "cell_type": "markdown",
      "metadata": {
        "id": "Er03Ir3WX_8w"
      },
      "source": [
        "# Shared"
      ]
    },
    {
      "cell_type": "code",
      "execution_count": null,
      "metadata": {
        "colab": {
          "base_uri": "https://localhost:8080/"
        },
        "collapsed": true,
        "id": "V_ZQyZWs9PKE",
        "outputId": "ccca245c-1e10-46e0-86a8-aa3d024ebd75"
      },
      "outputs": [],
      "source": [
        "!pip install tensorflowjs\n",
        "!pip install TensorFlow==2.15.0\n",
        "!pip install tensorflow-decision-forests==1.8.1"
      ]
    },
    {
      "cell_type": "code",
      "execution_count": null,
      "metadata": {
        "id": "KYCxUrN7n5pt"
      },
      "outputs": [],
      "source": [
        "import numpy as np\n",
        "import matplotlib.pyplot as plt\n",
        "import tensorflow as tf\n",
        "from typing import Callable, Tuple\n",
        "from tensorflow.keras import Sequential\n",
        "from tensorflow.keras.layers import Input, Dense\n",
        "from tensorflowjs.converters import save_keras_model\n",
        "from tensorflow.keras.backend import clear_session"
      ]
    },
    {
      "cell_type": "code",
      "execution_count": null,
      "metadata": {
        "id": "sKuh36KwoCsy"
      },
      "outputs": [],
      "source": [
        "# The size of the set that the relation operates on.\n",
        "SET_SIZE = 5\n",
        "\n",
        "# The size of each of the generated datasets.\n",
        "TRAIN_SIZE = 600000\n",
        "VALIDATION_SIZE = 200000\n",
        "TEST_SIZE = 200000\n",
        "\n",
        "# The number of epochs of every model.\n",
        "EPOCHS = 10\n",
        "# The batch size used during training.\n",
        "BATCH_SIZE = 32\n",
        "\n",
        "# Type representing the returned datasets from functions.\n",
        "Dataset = Tuple[np.ndarray, np.ndarray, np.ndarray, np.ndarray, np.ndarray, np.ndarray]\n",
        "# Type representing the returned tuple of x and y arrays from functions.\n",
        "LabeledData = Tuple[np.ndarray, np.ndarray]\n",
        "# Type representing a function that generates a sample for a dataset.\n",
        "GenerationFunction = Callable[[], np.ndarray]"
      ]
    },
    {
      "cell_type": "code",
      "execution_count": null,
      "metadata": {
        "id": "uwC6Jyd2oKHL"
      },
      "outputs": [],
      "source": [
        "clear_session()"
      ]
    },
    {
      "cell_type": "code",
      "execution_count": null,
      "metadata": {
        "id": "c2O0ItOdYkJA"
      },
      "outputs": [],
      "source": [
        "def get_property_model() -> Sequential:\n",
        "  \"\"\"\n",
        "  Returns a model for property classification.\n",
        "\n",
        "  Returns:\n",
        "    Sequential: The compiled model.\n",
        "  \"\"\"\n",
        "\n",
        "  model = Sequential()\n",
        "\n",
        "  model.add(Input(shape=(SET_SIZE * SET_SIZE,)))\n",
        "  model.add(Dense(32, activation=\"relu\"))\n",
        "  model.add(Dense(1, activation=\"sigmoid\"))\n",
        "\n",
        "  model.compile(optimizer=\"adam\", loss=\"binary_crossentropy\", metrics=[\"accuracy\"])\n",
        "\n",
        "  return model\n",
        "\n",
        "def generate_binary_dataset(number_of_samples: int, generate_positive_case: GenerationFunction, generate_negative_case: GenerationFunction) -> LabeledData:\n",
        "  \"\"\"\n",
        "  Generates a dataset for binary classification problems.\n",
        "\n",
        "  Args:\n",
        "    number_of_samples (int): The number of samples in the dataset.\n",
        "    generate_positive_case (GenerationFunction): The function to generate the positive case.\n",
        "    generate_negative_case (GenerationFunction): The function to generate the negative case.\n",
        "\n",
        "  Returns:\n",
        "    LabeledData: The generated dataset, split to x and y.\n",
        "  \"\"\"\n",
        "\n",
        "  # Initialize the x and y arrays.\n",
        "  x, y = [], []\n",
        "\n",
        "  # Run for half the samples, each time adding one from each case.\n",
        "  for _ in range(number_of_samples // 2):\n",
        "    # Add a positive case.\n",
        "    x.append(generate_positive_case())\n",
        "    y.append(1)\n",
        "    # Add a negative case.\n",
        "    x.append(generate_negative_case())\n",
        "    y.append(0)\n",
        "\n",
        "  # Convert the arrays to Numpy arrays to manipulate them.\n",
        "  x, y = np.array(x), np.array(y)\n",
        "\n",
        "  # Randomize the arrays in the same way.\n",
        "  indices = np.random.permutation(len(y))\n",
        "  x, y = x[indices], y[indices]\n",
        "\n",
        "  # Return the dataset.\n",
        "  return x, y\n",
        "\n",
        "def generate_full_binary_dataset(generate_positive_case: GenerationFunction, generate_negative_case: GenerationFunction) -> Dataset:\n",
        "  \"\"\"\n",
        "  Generates a full dataset for binary classification problems, consisting of training, validation and test.\n",
        "\n",
        "  Args:\n",
        "    generate_positive_case (GenerationFunction): The function to generate the positive case.\n",
        "    generate_negative_case (GenerationFunction): The function to generate the negative case.\n",
        "\n",
        "  Returns:\n",
        "    Dataset: The generated dataset, split to x and y.\n",
        "  \"\"\"\n",
        "\n",
        "  # Generate the training dataset.\n",
        "  x_train, y_train = generate_binary_dataset(TRAIN_SIZE, generate_positive_case, generate_negative_case)\n",
        "  # Generate the validation dataset.\n",
        "  x_val, y_val = generate_binary_dataset(VALIDATION_SIZE, generate_positive_case, generate_negative_case)\n",
        "  # Generate the test dataset.\n",
        "  x_test, y_test = generate_binary_dataset(TEST_SIZE, generate_positive_case, generate_negative_case)\n",
        "\n",
        "  # Return the full dataset.\n",
        "  return (x_train, y_train), (x_val, y_val), (x_test, y_test)\n",
        "\n",
        "def generate_full_dataset(generate_case: Callable[[int], Tuple[np.ndarray, np.ndarray]]) -> Dataset:\n",
        "  \"\"\"\n",
        "  Generates a full dataset, including training, validation and test.\n",
        "\n",
        "  Args:\n",
        "    generate_case (Callable[[], np.ndarray]): The function to generate a pair of x and y arrays.\n",
        "\n",
        "  Returns:\n",
        "    Dataset: The generated dataset.\n",
        "  \"\"\"\n",
        "\n",
        "  x_train, y_train = generate_case(TRAIN_SIZE)\n",
        "  x_val, y_val = generate_case(VALIDATION_SIZE)\n",
        "  x_test, y_test = generate_case(TEST_SIZE)\n",
        "\n",
        "  return (x_train, y_train), (x_val, y_val), (x_test, y_test)\n",
        "\n",
        "def get_random_relation() -> np.ndarray:\n",
        "  \"\"\"\n",
        "  Generates a random relation.\n",
        "\n",
        "  Returns:\n",
        "    np.ndarray: The generated relation.\n",
        "  \"\"\"\n",
        "\n",
        "  # 0 means that the pair satisfies the relation, and 1 means that it does not.\n",
        "  return np.random.randint(0, 2, (SET_SIZE, SET_SIZE))\n",
        "\n",
        "def plot_loss(loss: np.ndarray, val_loss: np.ndarray) -> None:\n",
        "  \"\"\"\n",
        "  Plots the training loss and the validation loss of a model.\n",
        "\n",
        "  Args:\n",
        "    loss (np.ndarray): The training loss of the model to plot.\n",
        "    val_loss (np.ndarray): The validation loss of the model to plot.\n",
        "  \"\"\"\n",
        "\n",
        "  plt.plot(loss, label=\"Training Loss\")\n",
        "  plt.plot(val_loss, label=\"Validation Loss\")\n",
        "  plt.xlabel(\"Epochs\")\n",
        "  plt.ylabel(\"Loss\")\n",
        "  plt.legend()\n",
        "  plt.show()\n",
        "\n",
        "def plot_accuracy(accuracy: np.ndarray, val_accuracy: np.ndarray) -> None:\n",
        "  \"\"\"\n",
        "  Plots the training accuracy and the validation accuracy of a model.\n",
        "\n",
        "  Args:\n",
        "    loss (np.ndarray): The training accuracy of the model to plot.\n",
        "    val_loss (np.ndarray): The validation accuracy of the model to plot.\n",
        "  \"\"\"\n",
        "\n",
        "  plt.plot(accuracy, label=\"Training Accuracy\")\n",
        "  plt.plot(val_accuracy, label=\"Validation Accuracy\")\n",
        "  plt.xlabel(\"Epochs\")\n",
        "  plt.ylabel(\"Accuracy\")\n",
        "  plt.legend()\n",
        "  plt.show()\n",
        "\n",
        "def operation_accuracy(y_true: tf.Tensor, y_pred: tf.Tensor) -> tf.Tensor:\n",
        "  \"\"\"\n",
        "  Calculates the accuracy of an operation model.\n",
        "\n",
        "  Args:\n",
        "    y_true (tf.Tensor): The true values.\n",
        "    y_pred (tf.Tensor): The predicted values.\n",
        "\n",
        "  Returns:\n",
        "    tf.Tensor: The accuracy of the operation model.\n",
        "  \"\"\"\n",
        "\n",
        "  # Convert predictions to binary.\n",
        "  y_pred_binary = tf.cast(y_pred >= 0.5, tf.bool)\n",
        "\n",
        "  # Convert true values to boolean.\n",
        "  y_true_binary = tf.cast(y_true, tf.bool)\n",
        "\n",
        "  # Check if all the elements in each row are equal.\n",
        "  correct_predictions = tf.reduce_all(tf.equal(y_pred_binary, y_true_binary), axis=1)\n",
        "\n",
        "  # Compute the accuracy as the average of the correct predictions.\n",
        "  return tf.reduce_mean(tf.cast(correct_predictions, tf.float32))"
      ]
    },
    {
      "cell_type": "markdown",
      "metadata": {
        "id": "VPjFRpNseIy3"
      },
      "source": [
        "# Reflexivity"
      ]
    },
    {
      "cell_type": "code",
      "execution_count": null,
      "metadata": {
        "id": "P-M01_XYeIzA"
      },
      "outputs": [],
      "source": [
        "def generate_reflexive_matrix() -> np.ndarray:\n",
        "  \"\"\"\n",
        "  Generates a reflexive matrix.\n",
        "\n",
        "  Returns:\n",
        "    np.ndarray: The generated reflexive matrix.\n",
        "  \"\"\"\n",
        "\n",
        "  # Create a random matrix.\n",
        "  matrix = get_random_relation()\n",
        "  # Fill the main diagonal with ones, so that for every element x, (x, x) satisfies the relation.\n",
        "  np.fill_diagonal(matrix, 1)\n",
        "\n",
        "  return matrix.flatten()\n",
        "\n",
        "def generate_non_reflexive_matrix() -> np.ndarray:\n",
        "  \"\"\"\n",
        "  Generates a non-reflexive matrix.\n",
        "\n",
        "  Returns:\n",
        "    np.ndarray: The generated non-reflexive matrix.\n",
        "  \"\"\"\n",
        "\n",
        "  # Create a random matrix.\n",
        "  matrix = get_random_relation()\n",
        "  # Ensure that it is not reflexive, by randomly making pairs on the main diagonal not satisfy the relation.\n",
        "  for _ in range(np.random.randint(1, 5)):\n",
        "    # Each time, pick a random pair from the main diagonal and set it to 0.\n",
        "    index = np.random.randint(0, SET_SIZE)\n",
        "    matrix[index][index] = 0\n",
        "\n",
        "  return matrix.flatten()"
      ]
    },
    {
      "cell_type": "code",
      "execution_count": null,
      "metadata": {
        "id": "2tSv71bxeIzB"
      },
      "outputs": [],
      "source": [
        "(x_train, y_train), (x_val, y_val), (x_test, y_test) = generate_full_binary_dataset(generate_reflexive_matrix, generate_non_reflexive_matrix)"
      ]
    },
    {
      "cell_type": "code",
      "execution_count": null,
      "metadata": {
        "id": "lrpib7MRhK0Q"
      },
      "outputs": [],
      "source": [
        "model = get_property_model()"
      ]
    },
    {
      "cell_type": "code",
      "execution_count": null,
      "metadata": {
        "colab": {
          "base_uri": "https://localhost:8080/"
        },
        "id": "YYjQplpSeIzB",
        "outputId": "0264c0fd-8496-4f15-def2-a17fde1dc1be"
      },
      "outputs": [],
      "source": [
        "history = model.fit(x_train, y_train, epochs=EPOCHS, batch_size=BATCH_SIZE, validation_data=(x_val, y_val))"
      ]
    },
    {
      "cell_type": "code",
      "execution_count": null,
      "metadata": {
        "colab": {
          "base_uri": "https://localhost:8080/",
          "height": 449
        },
        "id": "o2T6KPsdeIzB",
        "outputId": "28b33086-ad23-41bc-cd4b-01892b09a3e0"
      },
      "outputs": [],
      "source": [
        "plot_loss(history.history[\"loss\"], history.history[\"val_loss\"])"
      ]
    },
    {
      "cell_type": "code",
      "execution_count": null,
      "metadata": {
        "colab": {
          "base_uri": "https://localhost:8080/",
          "height": 449
        },
        "id": "kl8NL8qyeIzB",
        "outputId": "cb138df8-aaa3-411c-e531-181a3ab14b02"
      },
      "outputs": [],
      "source": [
        "plot_accuracy(history.history[\"accuracy\"], history.history[\"val_accuracy\"])"
      ]
    },
    {
      "cell_type": "code",
      "execution_count": null,
      "metadata": {
        "colab": {
          "base_uri": "https://localhost:8080/"
        },
        "id": "jGlEMI2Bjyrr",
        "outputId": "963d2d75-ffe1-4a1a-ec42-8db8423e5e1a"
      },
      "outputs": [],
      "source": [
        "model.evaluate(x_test, y_test)"
      ]
    },
    {
      "cell_type": "code",
      "execution_count": null,
      "metadata": {
        "colab": {
          "base_uri": "https://localhost:8080/"
        },
        "id": "SpL0ed4KmoQY",
        "outputId": "7dba2398-34f8-4b40-a20c-6f19886f4848"
      },
      "outputs": [],
      "source": [
        "save_keras_model(model, '/content/reflexivity')"
      ]
    },
    {
      "cell_type": "markdown",
      "metadata": {
        "id": "ezyq6tTr-Bwo"
      },
      "source": [
        "# Irreflexivity"
      ]
    },
    {
      "cell_type": "code",
      "execution_count": null,
      "metadata": {
        "id": "Bv6z8UCp-Bwx"
      },
      "outputs": [],
      "source": [
        "def generate_irreflexive_matrix() -> np.ndarray:\n",
        "  \"\"\"\n",
        "  Generates an irreflexive matrix.\n",
        "\n",
        "  Returns:\n",
        "    np.ndarray: The generated irreflexive matrix.\n",
        "  \"\"\"\n",
        "\n",
        "  # Create a random matrix.\n",
        "  matrix = get_random_relation()\n",
        "  # Fill the main diagonal with zeros, so that for every element x, (x, x) does not satisfy the relation.\n",
        "  np.fill_diagonal(matrix, 0)\n",
        "\n",
        "  return matrix.flatten()\n",
        "\n",
        "def generate_non_irreflexive_matrix() -> np.ndarray:\n",
        "  \"\"\"\n",
        "  Generates a non-irreflexive matrix.\n",
        "\n",
        "  Returns:\n",
        "    np.ndarray: The generated non-irreflexive matrix.\n",
        "  \"\"\"\n",
        "\n",
        "  # Create a random matrix.\n",
        "  matrix = get_random_relation()\n",
        "  # Ensure that it is not irreflexive, by randomly making pairs on the main diagonal satisfy the relation.\n",
        "  for _ in range(np.random.randint(1, 5)):\n",
        "    # Each time, pick a random pair from the main diagonal and set it to 1.\n",
        "    i = np.random.randint(0, SET_SIZE)\n",
        "    matrix[i][i] = 1\n",
        "\n",
        "  return matrix.flatten()"
      ]
    },
    {
      "cell_type": "code",
      "execution_count": null,
      "metadata": {
        "id": "ssMklVk7-Bwx"
      },
      "outputs": [],
      "source": [
        "(x_train, y_train), (x_val, y_val), (x_test, y_test) = generate_full_binary_dataset(generate_irreflexive_matrix, generate_non_irreflexive_matrix)"
      ]
    },
    {
      "cell_type": "code",
      "execution_count": null,
      "metadata": {
        "id": "mb5CN83whgm5"
      },
      "outputs": [],
      "source": [
        "model = get_property_model()"
      ]
    },
    {
      "cell_type": "code",
      "execution_count": null,
      "metadata": {
        "colab": {
          "base_uri": "https://localhost:8080/"
        },
        "id": "s3LGriNp-Bwx",
        "outputId": "e74d7ff3-a82f-4378-9a7c-4f091b7b2b85"
      },
      "outputs": [],
      "source": [
        "history = model.fit(x_train, y_train, epochs=EPOCHS, batch_size=BATCH_SIZE, validation_data=(x_val, y_val))"
      ]
    },
    {
      "cell_type": "code",
      "execution_count": null,
      "metadata": {
        "colab": {
          "base_uri": "https://localhost:8080/",
          "height": 449
        },
        "id": "ZdSnm9ec-Bwy",
        "outputId": "f1481074-6a67-468c-b2ec-0d0577557824"
      },
      "outputs": [],
      "source": [
        "plot_loss(history.history[\"loss\"], history.history[\"val_loss\"])"
      ]
    },
    {
      "cell_type": "code",
      "execution_count": null,
      "metadata": {
        "colab": {
          "base_uri": "https://localhost:8080/",
          "height": 449
        },
        "id": "IvWpOLXn-Bwy",
        "outputId": "057d59fb-6d27-4bf9-e01e-d5154aec25bf"
      },
      "outputs": [],
      "source": [
        "plot_accuracy(history.history[\"accuracy\"], history.history[\"val_accuracy\"])"
      ]
    },
    {
      "cell_type": "code",
      "execution_count": null,
      "metadata": {
        "colab": {
          "base_uri": "https://localhost:8080/"
        },
        "id": "UXJhtrtA-Bwy",
        "outputId": "e7f878a7-83e2-4a62-e347-38519d60f83d"
      },
      "outputs": [],
      "source": [
        "model.evaluate(x_test, y_test)"
      ]
    },
    {
      "cell_type": "code",
      "execution_count": null,
      "metadata": {
        "colab": {
          "base_uri": "https://localhost:8080/"
        },
        "id": "hmADdw-n-Bwy",
        "outputId": "856d6234-2ef5-4e97-fec0-32d3f01d4ee1"
      },
      "outputs": [],
      "source": [
        "save_keras_model(model, '/content/irreflexivity')"
      ]
    },
    {
      "cell_type": "markdown",
      "metadata": {
        "id": "2OatTDobfYSL"
      },
      "source": [
        "# Symmetry"
      ]
    },
    {
      "cell_type": "code",
      "execution_count": null,
      "metadata": {
        "id": "NVclId5FfYSU"
      },
      "outputs": [],
      "source": [
        "def generate_symmetric_matrix() -> np.ndarray:\n",
        "  \"\"\"\n",
        "  Generates a symmetric matrix.\n",
        "\n",
        "  Returns:\n",
        "    np.ndarray: The generated symmetric matrix.\n",
        "  \"\"\"\n",
        "\n",
        "  # Create a random matrix.\n",
        "  random_matrix = get_random_relation()\n",
        "  # Copy only the values on the main diagonal or above to a new matrix.\n",
        "  matrix = np.triu(random_matrix, 0)\n",
        "  # Mirror the upper values to ensure that the matrix is symmetric.\n",
        "  matrix += np.triu(random_matrix, 1).T\n",
        "\n",
        "  return matrix.flatten()\n",
        "\n",
        "def generate_non_symmetric_matrix() -> np.ndarray:\n",
        "  \"\"\"\n",
        "  Generates a non-symmetric matrix.\n",
        "\n",
        "  Returns:\n",
        "    np.ndarray: The generated non-symmetric matrix.\n",
        "  \"\"\"\n",
        "\n",
        "  # Create a random matrix.\n",
        "  matrix = get_random_relation()\n",
        "\n",
        "  # Ensure a non-symmetric matrix, by making some asymmetric pairs satisfy the relation.\n",
        "  for _ in range(np.random.randint(1, 5)):\n",
        "    # Choose 2 random pairs\n",
        "    i, j = np.random.randint(0, SET_SIZE, 2)\n",
        "    # Make them asymmetric\n",
        "    if i != j:\n",
        "      matrix[i][j] = 1 - matrix[j][i]\n",
        "\n",
        "  return matrix.flatten()"
      ]
    },
    {
      "cell_type": "code",
      "execution_count": null,
      "metadata": {
        "id": "Yg8LSpHrfYSV"
      },
      "outputs": [],
      "source": [
        "(x_train, y_train), (x_val, y_val), (x_test, y_test) = generate_full_binary_dataset(generate_symmetric_matrix, generate_non_symmetric_matrix)"
      ]
    },
    {
      "cell_type": "code",
      "execution_count": null,
      "metadata": {
        "id": "APfxqgMqhpFP"
      },
      "outputs": [],
      "source": [
        "model = get_property_model()"
      ]
    },
    {
      "cell_type": "code",
      "execution_count": null,
      "metadata": {
        "colab": {
          "base_uri": "https://localhost:8080/"
        },
        "id": "bbJr66b5fYSV",
        "outputId": "99186827-c142-4a9a-a281-dcd242f4fd2f"
      },
      "outputs": [],
      "source": [
        "history = model.fit(x_train, y_train, epochs=EPOCHS, batch_size=BATCH_SIZE, validation_data=(x_val, y_val))"
      ]
    },
    {
      "cell_type": "code",
      "execution_count": null,
      "metadata": {
        "colab": {
          "base_uri": "https://localhost:8080/",
          "height": 449
        },
        "id": "dwtSRgSbfYSV",
        "outputId": "2790a869-a944-4564-993c-7805490c19a3"
      },
      "outputs": [],
      "source": [
        "plot_loss(history.history[\"loss\"], history.history[\"val_loss\"])"
      ]
    },
    {
      "cell_type": "code",
      "execution_count": null,
      "metadata": {
        "colab": {
          "base_uri": "https://localhost:8080/",
          "height": 449
        },
        "id": "ZYsQyNxHfYSV",
        "outputId": "0e573134-e562-49ac-9fcc-b7e3ebe40a0f"
      },
      "outputs": [],
      "source": [
        "plot_accuracy(history.history[\"accuracy\"], history.history[\"val_accuracy\"])"
      ]
    },
    {
      "cell_type": "code",
      "execution_count": null,
      "metadata": {
        "colab": {
          "base_uri": "https://localhost:8080/"
        },
        "id": "OH1tdY0ykJXC",
        "outputId": "d61a107f-4585-4c70-abab-d9876a501231"
      },
      "outputs": [],
      "source": [
        "model.evaluate(x_test, y_test)"
      ]
    },
    {
      "cell_type": "code",
      "execution_count": null,
      "metadata": {
        "id": "xqsxfk-tmvQ4"
      },
      "outputs": [],
      "source": [
        "save_keras_model(model, '/content/symmetry')"
      ]
    },
    {
      "cell_type": "markdown",
      "metadata": {
        "id": "smfj9vd3-uM7"
      },
      "source": [
        "# Asymmetry"
      ]
    },
    {
      "cell_type": "code",
      "execution_count": null,
      "metadata": {
        "id": "fpNEsviI-uNE"
      },
      "outputs": [],
      "source": [
        "def generate_asymmetric_matrix() -> np.ndarray:\n",
        "  \"\"\"\n",
        "  Generates an asymmetric matrix.\n",
        "\n",
        "  Returns:\n",
        "    np.ndarray: The generated asymmetric matrix.\n",
        "  \"\"\"\n",
        "\n",
        "  # Create a random matrix.\n",
        "  matrix = get_random_relation()\n",
        "\n",
        "  # Make all pairs asymmetric\n",
        "  for i in range(SET_SIZE):\n",
        "    for j in range(SET_SIZE):\n",
        "      if matrix[i][j]:\n",
        "        matrix[j][i] = 0\n",
        "\n",
        "  return matrix.flatten()\n",
        "\n",
        "def generate_non_asymmetric_matrix() -> np.ndarray:\n",
        "  \"\"\"\n",
        "  Generates a non-asymmetric matrix.\n",
        "\n",
        "  Returns:\n",
        "    np.ndarray: The generated non-asymmetric matrix.\n",
        "  \"\"\"\n",
        "\n",
        "  # Create a random matrix.\n",
        "  matrix = get_random_relation()\n",
        "\n",
        "  # Ensure that the relation is not asymmetric, by making symmetric pairs.\n",
        "  for _ in range(np.random.randint(1, 5)):\n",
        "    # Choose 2 pairs randomly.\n",
        "    i, j = np.random.randint(0, SET_SIZE, 2)\n",
        "    # Make them symmetric.\n",
        "    matrix[i][j] = 1\n",
        "    matrix[j][i] = 1\n",
        "\n",
        "  return matrix.flatten()"
      ]
    },
    {
      "cell_type": "code",
      "execution_count": null,
      "metadata": {
        "id": "r8A0noOh-uNE"
      },
      "outputs": [],
      "source": [
        "(x_train, y_train), (x_val, y_val), (x_test, y_test) = generate_full_binary_dataset(generate_asymmetric_matrix, generate_non_asymmetric_matrix)"
      ]
    },
    {
      "cell_type": "code",
      "execution_count": null,
      "metadata": {
        "id": "c-se0WMbhtoT"
      },
      "outputs": [],
      "source": [
        "model = get_property_model()"
      ]
    },
    {
      "cell_type": "code",
      "execution_count": null,
      "metadata": {
        "colab": {
          "base_uri": "https://localhost:8080/"
        },
        "id": "9TNb7mBP-uNF",
        "outputId": "a364d252-c811-47fd-ff55-ff4cd93065a8"
      },
      "outputs": [],
      "source": [
        "history = model.fit(x_train, y_train, epochs=EPOCHS, batch_size=BATCH_SIZE, validation_data=(x_val, y_val))"
      ]
    },
    {
      "cell_type": "code",
      "execution_count": null,
      "metadata": {
        "colab": {
          "base_uri": "https://localhost:8080/",
          "height": 449
        },
        "id": "fYFBa9Wg-uNF",
        "outputId": "b4ee7346-2dfa-4ac5-bb31-0d9e3393b186"
      },
      "outputs": [],
      "source": [
        "plot_loss(history.history[\"loss\"], history.history[\"val_loss\"])"
      ]
    },
    {
      "cell_type": "code",
      "execution_count": null,
      "metadata": {
        "colab": {
          "base_uri": "https://localhost:8080/",
          "height": 449
        },
        "id": "zuaYjrco-uNG",
        "outputId": "be2b0ec2-36f8-411f-d123-83ad0ab28b8c"
      },
      "outputs": [],
      "source": [
        "plot_accuracy(history.history[\"accuracy\"], history.history[\"val_accuracy\"])"
      ]
    },
    {
      "cell_type": "code",
      "execution_count": null,
      "metadata": {
        "colab": {
          "base_uri": "https://localhost:8080/"
        },
        "id": "2Ci0FROx-uNG",
        "outputId": "2f8f0cd5-607d-46a0-c1f6-4c1b1b4be721"
      },
      "outputs": [],
      "source": [
        "model.evaluate(x_test, y_test)"
      ]
    },
    {
      "cell_type": "code",
      "execution_count": null,
      "metadata": {
        "id": "irvzmzkk-uNG"
      },
      "outputs": [],
      "source": [
        "save_keras_model(model, '/content/asymmetry')"
      ]
    },
    {
      "cell_type": "markdown",
      "metadata": {
        "id": "5mXYMXE_hA3-"
      },
      "source": [
        "# Antisymmetry"
      ]
    },
    {
      "cell_type": "code",
      "execution_count": null,
      "metadata": {
        "id": "Xha0ze4dhA4H"
      },
      "outputs": [],
      "source": [
        "def generate_antisymmetric_matrix() -> np.ndarray:\n",
        "  \"\"\"\n",
        "  Generates an antisymmetric matrix.\n",
        "\n",
        "  Returns:\n",
        "    np.ndarray: The generated antisymmetric matrix.\n",
        "  \"\"\"\n",
        "\n",
        "  # Create a random matrix.\n",
        "  matrix = get_random_relation()\n",
        "\n",
        "  # Ensure that the relation is antisymmetric.\n",
        "  for i in range(SET_SIZE):\n",
        "    for j in range(SET_SIZE):\n",
        "      # Skip the main diagonal.\n",
        "      if i == j:\n",
        "        continue\n",
        "\n",
        "      # Ensure antisymmetry.\n",
        "      if matrix[i][j]:\n",
        "        matrix[j][i] = 0\n",
        "\n",
        "  return matrix.flatten()\n",
        "\n",
        "def generate_non_antisymmetric_matrix() -> np.ndarray:\n",
        "  \"\"\"\n",
        "  Generates a non-antisymmetric matrix.\n",
        "\n",
        "  Returns:\n",
        "    np.ndarray: The generated non-antisymmetric matrix.\n",
        "  \"\"\"\n",
        "\n",
        "  # Create a random matrix.\n",
        "  matrix = get_random_relation()\n",
        "\n",
        "  # Ensure that the relation is not antisymmetric, by making some symmetric pairs.\n",
        "  for _ in range(np.random.randint(1, 5)):\n",
        "    # Initialize some indices.\n",
        "    i, j = 0, 0\n",
        "\n",
        "    # Skip the main diagonal.\n",
        "    while i == j:\n",
        "      i, j = np.random.randint(0, SET_SIZE, 2)\n",
        "\n",
        "    # Make the pairs symmetric.\n",
        "    matrix[i][j] = 1\n",
        "    matrix[j][i] = 1\n",
        "\n",
        "  return matrix.flatten()"
      ]
    },
    {
      "cell_type": "code",
      "execution_count": null,
      "metadata": {
        "id": "hFpirzvzhA4H"
      },
      "outputs": [],
      "source": [
        "(x_train, y_train), (x_val, y_val), (x_test, y_test) = generate_full_binary_dataset(generate_antisymmetric_matrix, generate_non_antisymmetric_matrix)"
      ]
    },
    {
      "cell_type": "code",
      "execution_count": null,
      "metadata": {
        "id": "t4IQmjRJh1HL"
      },
      "outputs": [],
      "source": [
        "model = get_property_model()"
      ]
    },
    {
      "cell_type": "code",
      "execution_count": null,
      "metadata": {
        "colab": {
          "base_uri": "https://localhost:8080/"
        },
        "id": "xHHI46xlhA4I",
        "outputId": "3295fecf-1df5-45b5-ba76-776022e65e88"
      },
      "outputs": [],
      "source": [
        "history = model.fit(x_train, y_train, epochs=EPOCHS, batch_size=BATCH_SIZE, validation_data=(x_val, y_val))"
      ]
    },
    {
      "cell_type": "code",
      "execution_count": null,
      "metadata": {
        "colab": {
          "base_uri": "https://localhost:8080/",
          "height": 449
        },
        "id": "Y9b1RSmmhA4I",
        "outputId": "bb162429-4aa4-48f2-c207-57c0f80543c0"
      },
      "outputs": [],
      "source": [
        "plot_loss(history.history[\"loss\"], history.history[\"val_loss\"])"
      ]
    },
    {
      "cell_type": "code",
      "execution_count": null,
      "metadata": {
        "colab": {
          "base_uri": "https://localhost:8080/",
          "height": 449
        },
        "id": "-akmOeD8hA4I",
        "outputId": "707d0eec-c9a5-4ad6-d96c-3ce84ca19361"
      },
      "outputs": [],
      "source": [
        "plot_accuracy(history.history[\"accuracy\"], history.history[\"val_accuracy\"])"
      ]
    },
    {
      "cell_type": "code",
      "execution_count": null,
      "metadata": {
        "colab": {
          "base_uri": "https://localhost:8080/"
        },
        "id": "SHIx5HFnhA4I",
        "outputId": "005c65d4-8e7d-4a62-8eba-d8746b655e7d"
      },
      "outputs": [],
      "source": [
        "model.evaluate(x_test, y_test)"
      ]
    },
    {
      "cell_type": "code",
      "execution_count": null,
      "metadata": {
        "id": "foahdiafhA4J"
      },
      "outputs": [],
      "source": [
        "save_keras_model(model, '/content/antisymmetry')"
      ]
    },
    {
      "cell_type": "markdown",
      "metadata": {
        "id": "iEzv6zZzW1Jg"
      },
      "source": [
        "# Transitivity"
      ]
    },
    {
      "cell_type": "code",
      "execution_count": null,
      "metadata": {
        "id": "Mms0ldQS-nwh"
      },
      "outputs": [],
      "source": [
        "def generate_transitive_matrix() -> np.ndarray:\n",
        "  \"\"\"\n",
        "  Generates a transitive matrix.\n",
        "\n",
        "  Returns:\n",
        "    np.ndarray: The generated transitive matrix.\n",
        "  \"\"\"\n",
        "\n",
        "  # Create a random matrix.\n",
        "  matrix = get_random_relation()\n",
        "\n",
        "  # Ensure transitivity.\n",
        "  for k in range(SET_SIZE):\n",
        "    for i in range(SET_SIZE):\n",
        "      for j in range(SET_SIZE):\n",
        "        if matrix[i][k] and matrix[k][j]:\n",
        "          matrix[i][j] = 1\n",
        "\n",
        "  return matrix.flatten()\n",
        "\n",
        "def generate_non_transitive_matrix() -> np.ndarray:\n",
        "  \"\"\"\n",
        "  Generates a non-transitive matrix.\n",
        "\n",
        "  Returns:\n",
        "    np.ndarray: The generated non-transitive matrix.\n",
        "  \"\"\"\n",
        "\n",
        "  # Create a random matrix.\n",
        "  matrix = get_random_relation()\n",
        "\n",
        "  # Violate transitivity.\n",
        "  for _ in range(np.random.randint(1, 5)):\n",
        "    # Choose 3 random indices.\n",
        "    i, j, k = np.random.randint(0, SET_SIZE, 3)\n",
        "\n",
        "    # Make them violate transitivity.\n",
        "    matrix[i][j] = 1\n",
        "    matrix[j][k] = 1\n",
        "    matrix[i][k] = 0\n",
        "\n",
        "  return matrix.flatten()"
      ]
    },
    {
      "cell_type": "code",
      "execution_count": null,
      "metadata": {
        "id": "rIRtHmTSdVHr"
      },
      "outputs": [],
      "source": [
        "(x_train, y_train), (x_val, y_val), (x_test, y_test) = generate_full_binary_dataset(generate_transitive_matrix, generate_non_transitive_matrix)"
      ]
    },
    {
      "cell_type": "code",
      "execution_count": null,
      "metadata": {
        "id": "4eeUfz9Ih6lL"
      },
      "outputs": [],
      "source": [
        "model = get_property_model()"
      ]
    },
    {
      "cell_type": "code",
      "execution_count": null,
      "metadata": {
        "colab": {
          "base_uri": "https://localhost:8080/"
        },
        "id": "zZMHk5sB--rD",
        "outputId": "f34e1ca5-d865-47e4-ebd6-ed1b7d23a3c0"
      },
      "outputs": [],
      "source": [
        "history = model.fit(x_train, y_train, epochs=EPOCHS, batch_size=BATCH_SIZE, validation_data=(x_val, y_val))"
      ]
    },
    {
      "cell_type": "code",
      "execution_count": null,
      "metadata": {
        "colab": {
          "base_uri": "https://localhost:8080/",
          "height": 449
        },
        "id": "EpQJFSWMAVxU",
        "outputId": "f5c44b24-8459-442b-8f10-25c2d87a74d8"
      },
      "outputs": [],
      "source": [
        "plot_loss(history.history[\"loss\"], history.history[\"val_loss\"])"
      ]
    },
    {
      "cell_type": "code",
      "execution_count": null,
      "metadata": {
        "colab": {
          "base_uri": "https://localhost:8080/",
          "height": 449
        },
        "id": "cbcLpyr5AC5L",
        "outputId": "52958916-8a7d-4a8c-8d92-c9c9a0cfedab"
      },
      "outputs": [],
      "source": [
        "plot_accuracy(history.history[\"accuracy\"], history.history[\"val_accuracy\"])"
      ]
    },
    {
      "cell_type": "code",
      "execution_count": null,
      "metadata": {
        "colab": {
          "base_uri": "https://localhost:8080/"
        },
        "id": "JxpM9Pdckfud",
        "outputId": "e187d928-ca60-46f2-ccae-6a1afcbf402d"
      },
      "outputs": [],
      "source": [
        "model.evaluate(x_test, y_test)"
      ]
    },
    {
      "cell_type": "code",
      "execution_count": null,
      "metadata": {
        "id": "wvMoUFTgmzZ3"
      },
      "outputs": [],
      "source": [
        "save_keras_model(model, '/content/transitivity')"
      ]
    },
    {
      "cell_type": "markdown",
      "metadata": {
        "id": "g908n6OWAgw1"
      },
      "source": [
        "# Antitransitivity"
      ]
    },
    {
      "cell_type": "code",
      "execution_count": null,
      "metadata": {
        "id": "o-0NFP6EAgw-"
      },
      "outputs": [],
      "source": [
        "def generate_antitransitive_matrix() -> np.ndarray:\n",
        "  \"\"\"\n",
        "  Generates an antitransitive matrix.\n",
        "\n",
        "  Returns:\n",
        "    np.ndarray: The generated antitransitive matrix.\n",
        "  \"\"\"\n",
        "\n",
        "  # Create a random matrix.\n",
        "  matrix = get_random_relation()\n",
        "\n",
        "  # Ensure antitransitivity.\n",
        "  for k in range(SET_SIZE):\n",
        "    for i in range(SET_SIZE):\n",
        "      for j in range(SET_SIZE):\n",
        "        if matrix[i][k] and matrix[k][j]:\n",
        "          matrix[i][j] = 0\n",
        "\n",
        "  return matrix.flatten()\n",
        "\n",
        "def generate_non_antitransitive_matrix() -> np.ndarray:\n",
        "  \"\"\"\n",
        "  Generates a non-antitransitive matrix.\n",
        "\n",
        "  Returns:\n",
        "    np.ndarray: The generated non-antitransitive matrix.\n",
        "  \"\"\"\n",
        "\n",
        "  # Create a random matrix.\n",
        "  matrix = get_random_relation()\n",
        "\n",
        "  # Violate antitransitivity.\n",
        "  for _ in range(np.random.randint(1, 5)):\n",
        "    # Choose 3 random indices.\n",
        "    i, j, k = np.random.randint(0, SET_SIZE, 3)\n",
        "\n",
        "    # Make them violate antitransitivity.\n",
        "    matrix[i][j] = 1\n",
        "    matrix[j][k] = 1\n",
        "    matrix[i][k] = 1\n",
        "\n",
        "  return matrix.flatten()"
      ]
    },
    {
      "cell_type": "code",
      "execution_count": null,
      "metadata": {
        "id": "_98iSz4BAgw_"
      },
      "outputs": [],
      "source": [
        "(x_train, y_train), (x_val, y_val), (x_test, y_test) = generate_full_binary_dataset(generate_antitransitive_matrix, generate_non_antitransitive_matrix)"
      ]
    },
    {
      "cell_type": "code",
      "execution_count": null,
      "metadata": {
        "id": "TvzYN61Ph-xf"
      },
      "outputs": [],
      "source": [
        "model = get_property_model()"
      ]
    },
    {
      "cell_type": "code",
      "execution_count": null,
      "metadata": {
        "colab": {
          "base_uri": "https://localhost:8080/"
        },
        "id": "li3TrmdXAgw_",
        "outputId": "c572f258-5b19-47d3-a389-9e4888226922"
      },
      "outputs": [],
      "source": [
        "history = model.fit(x_train, y_train, epochs=EPOCHS, batch_size=BATCH_SIZE, validation_data=(x_val, y_val))"
      ]
    },
    {
      "cell_type": "code",
      "execution_count": null,
      "metadata": {
        "colab": {
          "base_uri": "https://localhost:8080/",
          "height": 449
        },
        "id": "AA3S8iibAgw_",
        "outputId": "335b5006-9340-4707-e3a1-7b0544dfa8c8"
      },
      "outputs": [],
      "source": [
        "plot_loss(history.history[\"loss\"], history.history[\"val_loss\"])"
      ]
    },
    {
      "cell_type": "code",
      "execution_count": null,
      "metadata": {
        "colab": {
          "base_uri": "https://localhost:8080/",
          "height": 449
        },
        "id": "9MbZQNQdAgw_",
        "outputId": "9deae9b2-c6b2-4511-9f07-7383e7e50b12"
      },
      "outputs": [],
      "source": [
        "plot_accuracy(history.history[\"accuracy\"], history.history[\"val_accuracy\"])"
      ]
    },
    {
      "cell_type": "code",
      "execution_count": null,
      "metadata": {
        "colab": {
          "base_uri": "https://localhost:8080/"
        },
        "id": "Y-UeZfcTAgxA",
        "outputId": "57dcaad5-4749-4805-dc1b-55a712b3d9ac"
      },
      "outputs": [],
      "source": [
        "model.evaluate(x_test, y_test)"
      ]
    },
    {
      "cell_type": "code",
      "execution_count": null,
      "metadata": {
        "id": "Wrob33r4AgxA"
      },
      "outputs": [],
      "source": [
        "save_keras_model(model, '/content/antitransitivity')"
      ]
    },
    {
      "cell_type": "markdown",
      "metadata": {
        "id": "xYKQ0cg_WpDK"
      },
      "source": [
        "# Totality"
      ]
    },
    {
      "cell_type": "code",
      "execution_count": null,
      "metadata": {
        "id": "m1vwqvyJWpDT"
      },
      "outputs": [],
      "source": [
        "def generate_totality_matrix() -> np.ndarray:\n",
        "  \"\"\"\n",
        "  Generates a totality matrix.\n",
        "\n",
        "  Returns:\n",
        "    np.ndarray: The generated totality matrix.\n",
        "  \"\"\"\n",
        "\n",
        "  # Create a random matrix.\n",
        "  matrix = get_random_relation()\n",
        "\n",
        "  # Ensure totality.\n",
        "  for i in range(SET_SIZE):\n",
        "    for j in range(SET_SIZE):\n",
        "      # This pair already satisfies totality.\n",
        "      if matrix[i][j] or matrix[j][i]:\n",
        "        continue\n",
        "\n",
        "      # Choose randomly which pair gets to satisfy the relation.\n",
        "      if np.random.randint(0, 2) == 0:\n",
        "        matrix[i][j] = 1\n",
        "      else:\n",
        "        matrix[j][i] = 1\n",
        "\n",
        "  return matrix.flatten()\n",
        "\n",
        "def generate_non_totality_matrix() -> np.ndarray:\n",
        "  \"\"\"\n",
        "  Generates a non-totality matrix.\n",
        "\n",
        "  Returns:\n",
        "    np.ndarray: The generated non-totality matrix.\n",
        "  \"\"\"\n",
        "\n",
        "  # Create a random matrix.\n",
        "  matrix = get_random_relation()\n",
        "\n",
        "  # Violate totality.\n",
        "  for _ in range(np.random.randint(1, 5)):\n",
        "    # Choose 2 indices by random.\n",
        "    i, j = np.random.randint(0, SET_SIZE, 2)\n",
        "\n",
        "    # Make them violate totality.\n",
        "    matrix[i][j] = 0\n",
        "    matrix[j][i] = 0\n",
        "\n",
        "  return matrix.flatten()"
      ]
    },
    {
      "cell_type": "code",
      "execution_count": null,
      "metadata": {
        "id": "-NOUPEEEWpDU"
      },
      "outputs": [],
      "source": [
        "(x_train, y_train), (x_val, y_val), (x_test, y_test) = generate_full_binary_dataset(generate_totality_matrix, generate_non_totality_matrix)"
      ]
    },
    {
      "cell_type": "code",
      "execution_count": null,
      "metadata": {
        "id": "yuedK5CciCC5"
      },
      "outputs": [],
      "source": [
        "model = get_property_model()"
      ]
    },
    {
      "cell_type": "code",
      "execution_count": null,
      "metadata": {
        "colab": {
          "base_uri": "https://localhost:8080/"
        },
        "id": "rUv8mwUmWpDU",
        "outputId": "b67b6243-f02e-4404-d075-b7cc37d7213a"
      },
      "outputs": [],
      "source": [
        "history = model.fit(x_train, y_train, epochs=EPOCHS, batch_size=BATCH_SIZE, validation_data=(x_val, y_val))"
      ]
    },
    {
      "cell_type": "code",
      "execution_count": null,
      "metadata": {
        "colab": {
          "base_uri": "https://localhost:8080/",
          "height": 449
        },
        "id": "Uln8AE1DWpDU",
        "outputId": "fcfb21b6-5f1c-457d-d7db-510d6e0702b0"
      },
      "outputs": [],
      "source": [
        "plot_loss(history.history[\"loss\"], history.history[\"val_loss\"])"
      ]
    },
    {
      "cell_type": "code",
      "execution_count": null,
      "metadata": {
        "colab": {
          "base_uri": "https://localhost:8080/",
          "height": 449
        },
        "id": "o52_-k6lWpDV",
        "outputId": "67423eca-e9ed-4919-abf9-a4c0b1a1c98a"
      },
      "outputs": [],
      "source": [
        "plot_accuracy(history.history[\"accuracy\"], history.history[\"val_accuracy\"])"
      ]
    },
    {
      "cell_type": "code",
      "execution_count": null,
      "metadata": {
        "colab": {
          "base_uri": "https://localhost:8080/"
        },
        "id": "-q2l00Z-WpDV",
        "outputId": "d701d438-ce73-4f5e-ebe0-229639479223"
      },
      "outputs": [],
      "source": [
        "model.evaluate(x_test, y_test)"
      ]
    },
    {
      "cell_type": "code",
      "execution_count": null,
      "metadata": {
        "id": "Rrmju7neWpDV"
      },
      "outputs": [],
      "source": [
        "save_keras_model(model, '/content/totality')"
      ]
    },
    {
      "cell_type": "markdown",
      "metadata": {
        "id": "Rs55UMW9mg1M"
      },
      "source": [
        "# Trichotomy"
      ]
    },
    {
      "cell_type": "code",
      "execution_count": null,
      "metadata": {
        "id": "Z0Mkku9Qmg1V"
      },
      "outputs": [],
      "source": [
        "def generate_trichotomy_matrix() -> np.ndarray:\n",
        "  \"\"\"\n",
        "  Generates a trichotomy matrix.\n",
        "\n",
        "  Returns:\n",
        "    np.ndarray: The generated trichotomy matrix.\n",
        "  \"\"\"\n",
        "\n",
        "  # Create a random matrix.\n",
        "  matrix = get_random_relation()\n",
        "\n",
        "  # Ensure trichotomy.\n",
        "  for i in range(SET_SIZE):\n",
        "    for j in range(SET_SIZE):\n",
        "      # Skip the main diagonal or when the pair already satisfies trichotomy.\n",
        "      if i == j or matrix[i][j] or matrix[j][i]:\n",
        "        continue\n",
        "\n",
        "      # Choose one of the 2 pairs by random to satisfy the relation.\n",
        "      if np.random.randint(0, 2) == 0:\n",
        "        matrix[i][j] = 1\n",
        "      else:\n",
        "        matrix[j][i] = 1\n",
        "\n",
        "  return matrix.flatten()\n",
        "\n",
        "def generate_non_trichotomy_matrix() -> np.ndarray:\n",
        "  \"\"\"\n",
        "  Generates a non-trichotomy matrix.\n",
        "\n",
        "  Returns:\n",
        "    np.ndarray: The generated non-trichotomy matrix.\n",
        "  \"\"\"\n",
        "\n",
        "  # Create a random matrix.\n",
        "  matrix = get_random_relation()\n",
        "\n",
        "  # Violate trichotomy.\n",
        "  for _ in range(np.random.randint(1, 5)):\n",
        "    # Initialize 2 indices.\n",
        "    i, j = 0, 0\n",
        "\n",
        "    # Skip the main diagonal.\n",
        "    while i == j:\n",
        "      i, j = np.random.randint(0, SET_SIZE, 2)\n",
        "\n",
        "    # Make the pairs violate trichotomy.\n",
        "    matrix[i][j] = 0\n",
        "    matrix[j][i] = 0\n",
        "\n",
        "  return matrix.flatten()"
      ]
    },
    {
      "cell_type": "code",
      "execution_count": null,
      "metadata": {
        "id": "BebkTt9Mmg1V"
      },
      "outputs": [],
      "source": [
        "(x_train, y_train), (x_val, y_val), (x_test, y_test) = generate_full_binary_dataset(generate_trichotomy_matrix, generate_non_trichotomy_matrix)"
      ]
    },
    {
      "cell_type": "code",
      "execution_count": null,
      "metadata": {
        "id": "Na5-SIqaiGYa"
      },
      "outputs": [],
      "source": [
        "model = get_property_model()"
      ]
    },
    {
      "cell_type": "code",
      "execution_count": null,
      "metadata": {
        "colab": {
          "base_uri": "https://localhost:8080/"
        },
        "id": "4joRfDqlmg1V",
        "outputId": "091ead44-64a0-41c5-a852-7851bd3be8ec"
      },
      "outputs": [],
      "source": [
        "history = model.fit(x_train, y_train, epochs=EPOCHS, batch_size=BATCH_SIZE, validation_data=(x_val, y_val))"
      ]
    },
    {
      "cell_type": "code",
      "execution_count": null,
      "metadata": {
        "colab": {
          "base_uri": "https://localhost:8080/",
          "height": 449
        },
        "id": "yUB9t7JWmg1W",
        "outputId": "b0b4776c-74d6-4fe0-b2e3-0765b204cf54"
      },
      "outputs": [],
      "source": [
        "plot_loss(history.history[\"loss\"], history.history[\"val_loss\"])"
      ]
    },
    {
      "cell_type": "code",
      "execution_count": null,
      "metadata": {
        "colab": {
          "base_uri": "https://localhost:8080/",
          "height": 449
        },
        "id": "xINuNKvimg1W",
        "outputId": "8f080385-1479-43db-d336-c3feb3fd8fba"
      },
      "outputs": [],
      "source": [
        "plot_accuracy(history.history[\"accuracy\"], history.history[\"val_accuracy\"])"
      ]
    },
    {
      "cell_type": "code",
      "execution_count": null,
      "metadata": {
        "colab": {
          "base_uri": "https://localhost:8080/"
        },
        "id": "zh_Vz10Xmg1W",
        "outputId": "d6050fac-f4b3-483d-b2b1-00ebea5b9368"
      },
      "outputs": [],
      "source": [
        "model.evaluate(x_test, y_test)"
      ]
    },
    {
      "cell_type": "code",
      "execution_count": null,
      "metadata": {
        "id": "gu-Zb3Tsmg1W"
      },
      "outputs": [],
      "source": [
        "save_keras_model(model, '/content/trichotomy')"
      ]
    },
    {
      "cell_type": "markdown",
      "metadata": {
        "id": "gIADsnOo389n"
      },
      "source": [
        "# Inversion"
      ]
    },
    {
      "cell_type": "code",
      "execution_count": null,
      "metadata": {
        "id": "KFy8gcnG389n"
      },
      "outputs": [],
      "source": [
        "def generate_inversion_dataset(number_of_samples: int) -> LabeledData:\n",
        "  \"\"\"\n",
        "  Generates an inversion dataset.\n",
        "\n",
        "  Args:\n",
        "    number_of_samples (int): The number of samples to generate.\n",
        "\n",
        "  Returns:\n",
        "    LabeledData: The generated inversion dataset.\n",
        "  \"\"\"\n",
        "\n",
        "  # Generate an array of random matrices.\n",
        "  x = np.random.randint(0, 2, (number_of_samples, SET_SIZE, SET_SIZE))\n",
        "  # Transpose the array to get the inverse of each matrix.\n",
        "  y = x.transpose(0, 2, 1)\n",
        "\n",
        "  # Flatten the matrices.\n",
        "  x = x.reshape((number_of_samples, SET_SIZE * SET_SIZE))\n",
        "  y = y.reshape((number_of_samples, SET_SIZE * SET_SIZE))\n",
        "\n",
        "  return x, y"
      ]
    },
    {
      "cell_type": "code",
      "execution_count": null,
      "metadata": {
        "id": "i4fDNrXv389n"
      },
      "outputs": [],
      "source": [
        "(x_train, y_train), (x_val, y_val), (x_test, y_test) = generate_full_dataset(generate_inversion_dataset)"
      ]
    },
    {
      "cell_type": "code",
      "execution_count": null,
      "metadata": {
        "id": "2YNtDsqE389o"
      },
      "outputs": [],
      "source": [
        "model = Sequential()\n",
        "\n",
        "model.add(Input(shape=(SET_SIZE * SET_SIZE,)))\n",
        "model.add(Dense(32, activation=\"relu\"))\n",
        "model.add(Dense(SET_SIZE * SET_SIZE, activation=\"sigmoid\"))\n",
        "\n",
        "model.compile(optimizer=\"adam\", loss=\"binary_crossentropy\", metrics=[operation_accuracy])"
      ]
    },
    {
      "cell_type": "code",
      "execution_count": null,
      "metadata": {
        "colab": {
          "base_uri": "https://localhost:8080/"
        },
        "id": "UkBOw69G7Y2O",
        "outputId": "caf703ea-72c6-4ed1-cf91-702bae05d0a5"
      },
      "outputs": [],
      "source": [
        "history = model.fit(x_train, y_train, epochs=EPOCHS, batch_size=BATCH_SIZE, validation_data=(x_val, y_val))"
      ]
    },
    {
      "cell_type": "code",
      "execution_count": null,
      "metadata": {
        "colab": {
          "base_uri": "https://localhost:8080/",
          "height": 449
        },
        "id": "T305nbH0389o",
        "outputId": "a74cfd93-550e-4708-aae2-09a80b573f15"
      },
      "outputs": [],
      "source": [
        "plot_loss(history.history[\"loss\"], history.history[\"val_loss\"])"
      ]
    },
    {
      "cell_type": "code",
      "execution_count": null,
      "metadata": {
        "colab": {
          "base_uri": "https://localhost:8080/",
          "height": 449
        },
        "id": "YXlUx8ekZdHz",
        "outputId": "63275b2e-5537-454f-ddec-d166d90eeaab"
      },
      "outputs": [],
      "source": [
        "plot_accuracy(history.history[\"operation_accuracy\"], history.history[\"val_operation_accuracy\"])"
      ]
    },
    {
      "cell_type": "code",
      "execution_count": null,
      "metadata": {
        "colab": {
          "base_uri": "https://localhost:8080/"
        },
        "id": "ZswiRsijsHbe",
        "outputId": "9dd4acc2-190d-4af2-fc5d-69df922bbc99"
      },
      "outputs": [],
      "source": [
        "model.evaluate(x_test, y_test)"
      ]
    },
    {
      "cell_type": "code",
      "execution_count": null,
      "metadata": {
        "colab": {
          "base_uri": "https://localhost:8080/"
        },
        "id": "cP9L4il4389p",
        "outputId": "dda38c5e-b948-4adc-ac24-7fab2780401a"
      },
      "outputs": [],
      "source": [
        "save_keras_model(model, '/content/inversion')"
      ]
    },
    {
      "cell_type": "markdown",
      "metadata": {
        "id": "Je6rZEqiiKfq"
      },
      "source": [
        "# Composition"
      ]
    },
    {
      "cell_type": "code",
      "execution_count": null,
      "metadata": {
        "id": "RnTWY6RZX-wm"
      },
      "outputs": [],
      "source": [
        "def compose_relation(relation: np.ndarray) -> np.ndarray:\n",
        "  \"\"\"\n",
        "  Composes a relation with itself.\n",
        "\n",
        "  Args:\n",
        "    relation (np.ndarray): The relation to compose.\n",
        "\n",
        "  Returns:\n",
        "    np.ndarray: The composed relation.\n",
        "  \"\"\"\n",
        "\n",
        "  # Initialize the composed relation.\n",
        "  composed = np.zeros((SET_SIZE, SET_SIZE))\n",
        "\n",
        "  # Build the composed relation from the original.\n",
        "  for i in range(SET_SIZE):\n",
        "    for j in range(SET_SIZE):\n",
        "      for k in range(SET_SIZE):\n",
        "        composed[i][k] = composed[i][k] or (relation[i][j] and relation[j][k])\n",
        "\n",
        "  return composed\n",
        "\n",
        "def generate_composition_dataset(number_of_samples: int) -> LabeledData:\n",
        "  \"\"\"\n",
        "  Generates a composition dataset.\n",
        "\n",
        "  Args:\n",
        "    number_of_samples (int): The number of samples to generate.\n",
        "\n",
        "  Returns:\n",
        "    LabeledData: The generated composition dataset.\n",
        "  \"\"\"\n",
        "\n",
        "  # Create an array of random relations.\n",
        "  x = np.random.randint(0, 2, (number_of_samples, SET_SIZE, SET_SIZE))\n",
        "\n",
        "  # Compose each relation with itself and store the new relations in a new array.\n",
        "  y = np.array([compose_relation(relation) for relation in x])\n",
        "\n",
        "  # Reshape the x array to fit the model.\n",
        "  x = x.reshape(number_of_samples, SET_SIZE * SET_SIZE)\n",
        "\n",
        "  # Reshape the y array to fit the model.\n",
        "  y = y.reshape(number_of_samples, SET_SIZE * SET_SIZE)\n",
        "\n",
        "  return x, y"
      ]
    },
    {
      "cell_type": "code",
      "execution_count": null,
      "metadata": {
        "id": "uPwk6qJoYJ3r"
      },
      "outputs": [],
      "source": [
        "(x_train, y_train), (x_val, y_val), (x_test, y_test) = generate_full_dataset(generate_composition_dataset)"
      ]
    },
    {
      "cell_type": "code",
      "execution_count": null,
      "metadata": {
        "id": "oh9qIoiRiKfz"
      },
      "outputs": [],
      "source": [
        "model = Sequential()\n",
        "\n",
        "model.add(Input(shape=(SET_SIZE * SET_SIZE,)))\n",
        "model.add(Dense(128, activation=\"relu\"))\n",
        "model.add(Dense(SET_SIZE * SET_SIZE, activation=\"sigmoid\"))\n",
        "\n",
        "model.compile(optimizer=\"adam\", loss=\"binary_crossentropy\", metrics=[operation_accuracy])"
      ]
    },
    {
      "cell_type": "code",
      "execution_count": null,
      "metadata": {
        "colab": {
          "base_uri": "https://localhost:8080/"
        },
        "id": "qHXh33fQiKfz",
        "outputId": "6d669fc5-8dfe-4d58-98ad-c5f134ffc50a"
      },
      "outputs": [],
      "source": [
        "history = model.fit(x_train, y_train, epochs=EPOCHS, batch_size=BATCH_SIZE, validation_data=(x_val, y_val))"
      ]
    },
    {
      "cell_type": "code",
      "execution_count": null,
      "metadata": {
        "colab": {
          "base_uri": "https://localhost:8080/",
          "height": 449
        },
        "id": "BIxKZ_9EiKf0",
        "outputId": "bb2e2dab-aaa5-430c-bf1a-dcb293c7c7f1"
      },
      "outputs": [],
      "source": [
        "plot_loss(history.history[\"loss\"], history.history[\"val_loss\"])"
      ]
    },
    {
      "cell_type": "code",
      "execution_count": null,
      "metadata": {
        "colab": {
          "base_uri": "https://localhost:8080/",
          "height": 449
        },
        "id": "GcA4t_GHeJw4",
        "outputId": "8dd2195d-2dbd-49ff-f245-3474ee998ddc"
      },
      "outputs": [],
      "source": [
        "plot_accuracy(history.history[\"operation_accuracy\"], history.history[\"val_operation_accuracy\"])"
      ]
    },
    {
      "cell_type": "code",
      "execution_count": null,
      "metadata": {
        "colab": {
          "base_uri": "https://localhost:8080/"
        },
        "id": "yaZWc2zhr-v9",
        "outputId": "a76d650c-b5ad-4581-aac4-6962695b6b36"
      },
      "outputs": [],
      "source": [
        "model.evaluate(x_test, y_test)"
      ]
    },
    {
      "cell_type": "code",
      "execution_count": null,
      "metadata": {
        "colab": {
          "base_uri": "https://localhost:8080/"
        },
        "id": "-oUgIdjuiKf0",
        "outputId": "3cbda13a-7237-44e8-ae03-84e5e9cccd77"
      },
      "outputs": [],
      "source": [
        "save_keras_model(model, '/content/composition')"
      ]
    }
  ],
  "metadata": {
    "colab": {
      "authorship_tag": "ABX9TyM3PFpWzodHqXt1/jDQTOWC",
      "collapsed_sections": [
        "VPjFRpNseIy3",
        "ezyq6tTr-Bwo",
        "2OatTDobfYSL",
        "smfj9vd3-uM7",
        "5mXYMXE_hA3-",
        "iEzv6zZzW1Jg",
        "g908n6OWAgw1",
        "xYKQ0cg_WpDK",
        "Rs55UMW9mg1M",
        "gIADsnOo389n",
        "Je6rZEqiiKfq"
      ],
      "include_colab_link": true,
      "provenance": []
    },
    "kernelspec": {
      "display_name": "Python 3",
      "name": "python3"
    },
    "language_info": {
      "name": "python"
    }
  },
  "nbformat": 4,
  "nbformat_minor": 0
}
